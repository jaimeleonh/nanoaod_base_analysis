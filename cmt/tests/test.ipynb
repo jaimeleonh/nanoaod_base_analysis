{
 "cells": [
  {
   "cell_type": "code",
   "execution_count": 1,
   "metadata": {},
   "outputs": [],
   "source": [
    "from analysis_tools import Dataset, Process, Feature\n",
    "from pprint import pprint"
   ]
  },
  {
   "cell_type": "code",
   "execution_count": 2,
   "metadata": {},
   "outputs": [
    {
     "name": "stdout",
     "output_type": "stream",
     "text": [
      "['/store/mc/RunIIAutumn18NanoAODv7/VBFHHTo2B2Tau_CV_1_C2V_1_C3_1_TuneCP5_PSWeights_13TeV-madgraph-pythia8/NANOAODSIM/Nano02Apr2020_102X_upgrade2018_realistic_v21-v1/100000/3BDBE4D4-7D67-8642-A73D-EF42756D1880.root',\n",
      " '/store/mc/RunIIAutumn18NanoAODv7/VBFHHTo2B2Tau_CV_1_C2V_1_C3_1_TuneCP5_PSWeights_13TeV-madgraph-pythia8/NANOAODSIM/Nano02Apr2020_102X_upgrade2018_realistic_v21-v1/100000/F0B36BCE-9E08-1848-9D32-4E5DD8176C21.root',\n",
      " '/store/mc/RunIIAutumn18NanoAODv7/VBFHHTo2B2Tau_CV_1_C2V_1_C3_1_TuneCP5_PSWeights_13TeV-madgraph-pythia8/NANOAODSIM/Nano02Apr2020_102X_upgrade2018_realistic_v21-v1/110000/31F5979C-2686-5242-B388-92335EDF4E27.root',\n",
      " '/store/mc/RunIIAutumn18NanoAODv7/VBFHHTo2B2Tau_CV_1_C2V_1_C3_1_TuneCP5_PSWeights_13TeV-madgraph-pythia8/NANOAODSIM/Nano02Apr2020_102X_upgrade2018_realistic_v21-v1/110000/E2C26867-6BDF-4B40-BC6C-3A1FE3835FB7.root',\n",
      " '/store/mc/RunIIAutumn18NanoAODv7/VBFHHTo2B2Tau_CV_1_C2V_1_C3_1_TuneCP5_PSWeights_13TeV-madgraph-pythia8/NANOAODSIM/Nano02Apr2020_102X_upgrade2018_realistic_v21-v1/120000/E1D9DDB5-6F50-904F-9EB6-6AC979A7E3FF.root',\n",
      " '/store/mc/RunIIAutumn18NanoAODv7/VBFHHTo2B2Tau_CV_1_C2V_1_C3_1_TuneCP5_PSWeights_13TeV-madgraph-pythia8/NANOAODSIM/Nano02Apr2020_102X_upgrade2018_realistic_v21-v1/130000/B39D72FA-B9CF-B94A-8B1B-07BC6EDB49A5.root',\n",
      " '/store/mc/RunIIAutumn18NanoAODv7/VBFHHTo2B2Tau_CV_1_C2V_1_C3_1_TuneCP5_PSWeights_13TeV-madgraph-pythia8/NANOAODSIM/Nano02Apr2020_102X_upgrade2018_realistic_v21-v1/260000/5570C3BD-7068-5F49-BA34-53664983A010.root',\n",
      " '/store/mc/RunIIAutumn18NanoAODv7/VBFHHTo2B2Tau_CV_1_C2V_1_C3_1_TuneCP5_PSWeights_13TeV-madgraph-pythia8/NANOAODSIM/Nano02Apr2020_102X_upgrade2018_realistic_v21-v1/270000/0710FBAD-6EDB-CF43-A6BF-752414C3D63E.root',\n",
      " '/store/mc/RunIIAutumn18NanoAODv7/VBFHHTo2B2Tau_CV_1_C2V_1_C3_1_TuneCP5_PSWeights_13TeV-madgraph-pythia8/NANOAODSIM/Nano02Apr2020_102X_upgrade2018_realistic_v21-v1/270000/BEB5D40C-1EB3-5145-A336-FCDFA5480552.root',\n",
      " '/store/mc/RunIIAutumn18NanoAODv7/VBFHHTo2B2Tau_CV_1_C2V_1_C3_1_TuneCP5_PSWeights_13TeV-madgraph-pythia8/NANOAODSIM/Nano02Apr2020_102X_upgrade2018_realistic_v21-v1/60000/30ADB923-8475-CE4E-8A51-8E9707DC6EFF.root',\n",
      " '/store/mc/RunIIAutumn18NanoAODv7/VBFHHTo2B2Tau_CV_1_C2V_1_C3_1_TuneCP5_PSWeights_13TeV-madgraph-pythia8/NANOAODSIM/Nano02Apr2020_102X_upgrade2018_realistic_v21-v1/60000/A3745FA3-7561-AD4D-AFC9-76DB33457F92.root',\n",
      " '/store/mc/RunIIAutumn18NanoAODv7/VBFHHTo2B2Tau_CV_1_C2V_1_C3_1_TuneCP5_PSWeights_13TeV-madgraph-pythia8/NANOAODSIM/Nano02Apr2020_102X_upgrade2018_realistic_v21-v1/70000/42874D65-F0B6-954F-98AA-90CA0E971997.root',\n",
      " '/store/mc/RunIIAutumn18NanoAODv7/VBFHHTo2B2Tau_CV_1_C2V_1_C3_1_TuneCP5_PSWeights_13TeV-madgraph-pythia8/NANOAODSIM/Nano02Apr2020_102X_upgrade2018_realistic_v21-v1/70000/766DAFF4-7C0B-5547-BE18-99522C4A0711.root',\n",
      " '/store/mc/RunIIAutumn18NanoAODv7/VBFHHTo2B2Tau_CV_1_C2V_1_C3_1_TuneCP5_PSWeights_13TeV-madgraph-pythia8/NANOAODSIM/Nano02Apr2020_102X_upgrade2018_realistic_v21-v1/70000/BE3E138D-4749-D94D-A301-829B46ABB3A4.root']\n"
     ]
    }
   ],
   "source": [
    "vbf_sm_process = Process(\"vbf_sm\", \"VBFSM\", color=(0, 0, 0))\n",
    "vbf = Dataset(\"vbf_sm\",\n",
    "             \"/store/mc/RunIIAutumn18NanoAODv7/VBFHHTo2B2Tau_CV_1_C2V_1_C3_1_TuneCP5_PSWeights_13TeV-madgraph-pythia8/NANOAODSIM/Nano02Apr2020_102X_upgrade2018_realistic_v21-v1/\",\n",
    "             vbf_sm_process,\n",
    "             prefix=\"cmsxrootd-1.gridka.de:1094/\")\n",
    "pprint(vbf.get_files()[0:])"
   ]
  },
  {
   "cell_type": "code",
   "execution_count": null,
   "metadata": {},
   "outputs": [],
   "source": [
    "# Create dy process and dataset (whose files are in desy, so we must use xrootd)\n",
    "dy_process = Process(\"dy\", \"DY\", color=(255, 0, 0))\n",
    "d = Dataset(\"dy_low\", \n",
    "            \"/store/mc/RunIISummer16NanoAODv7/DYJetsToLL_M-50_TuneCUETP8M1_13TeV-madgraphMLM-pythia8/NANOAODSIM/PUMoriond17_Nano02Apr2020_102X_mcRun2_asymptotic_v8_ext2-v1/110000/\",\n",
    "            dy_process,\n",
    "            prefix=\"dcache-cms-xrootd.desy.de:1094/\"\n",
    "           )\n",
    "# let's see which files we are considering\n",
    "# don't forget to voms-proxy before!\n",
    "pprint(d.get_files()[0:2])"
   ]
  },
  {
   "cell_type": "code",
   "execution_count": 3,
   "metadata": {},
   "outputs": [
    {
     "name": "stdout",
     "output_type": "stream",
     "text": [
      "Welcome to JupyROOT 6.18/04\n",
      "['root://cmsxrootd-1.gridka.de:1094//store/mc/RunIIAutumn18NanoAODv7/VBFHHTo2B2Tau_CV_1_C2V_1_C3_1_TuneCP5_PSWeights_13TeV-madgraph-pythia8/NANOAODSIM/Nano02Apr2020_102X_upgrade2018_realistic_v21-v1/100000/3BDBE4D4-7D67-8642-A73D-EF42756D1880.root']\n"
     ]
    }
   ],
   "source": [
    "# lets plot stuff using ROOT RDataFrame\n",
    "import ROOT\n",
    "if vbf.prefix:\n",
    "    files = [(\"root://\" + vbf.prefix + f) for f in vbf.get_files()[0:1]]\n",
    "else:\n",
    "    files = vbf.get_files()\n",
    "print files\n",
    "dataframe_files = ROOT.vector(str)()\n",
    "for f in files:\n",
    "    dataframe_files.push_back(f)\n",
    "df = ROOT.RDataFrame(\"Events\", dataframe_files)"
   ]
  },
  {
   "cell_type": "code",
   "execution_count": 11,
   "metadata": {},
   "outputs": [
    {
     "name": "stdout",
     "output_type": "stream",
     "text": [
      "['nGenJetAK8', 'nGenJet', 'nGenPart', 'nGenVisTau', 'nGenDressedLepton', 'nGenIsolatedPhoton']\n"
     ]
    }
   ],
   "source": [
    "print [col for col in df.GetColumnNames() if \"ngen\" in col.lower()]"
   ]
  },
  {
   "cell_type": "code",
   "execution_count": 15,
   "metadata": {},
   "outputs": [
    {
     "data": {
      "image/png": "[encoded data removed]",
      "text/plain": [
       "<IPython.core.display.Image object>"
      ]
     },
     "metadata": {},
     "output_type": "display_data"
    }
   ],
   "source": [
    "hmodel = (\"hpt\",\"Tau p_{T}[GeV]\",50,0., 400.)\n",
    "new_df = df.Filter(\"nGenVisTau >= 2\")\n",
    "f = Feature(\"GenVisTau_pt\", \"GenVisTau_pt\")\n",
    "f2 = Feature(\"Tau_pt\", \"Tau_pt\")\n",
    "hist = new_df.Histo1D(hmodel, f.expression)\n",
    "hist2 = new_df.Histo1D(hmodel, f2.expression)\n",
    "\n",
    "\n",
    "hist.SetLineColor(ROOT.TColor.GetColor(*vbf.process.color))\n",
    "hist2.SetLineColor(ROOT.kRed)\n",
    "\n",
    "c = ROOT.TCanvas(\"\", \"\", 800, 800)\n",
    "hist2.Draw(\"same\")\n",
    "hist.Draw(\"same\")\n",
    "\n",
    "c.Draw()"
   ]
  },
  {
   "cell_type": "code",
   "execution_count": null,
   "metadata": {},
   "outputs": [],
   "source": [
    "f = Feature(\"met_pt\", \"MET_pt\")\n",
    "new_df = df.Filter(\"MET_pt > 90\")\n",
    "hist = new_df.Histo1D(f.expression)\n",
    "hist.SetLineColor(ROOT.TColor.GetColor(*d.process.color))\n",
    "c = ROOT.TCanvas(\"\", \"\", 800, 800)\n",
    "hist.Draw()\n",
    "# c.Draw()\n",
    "# new_df.Snapshot(\"Events\", \"skim.root\")"
   ]
  },
  {
   "cell_type": "code",
   "execution_count": null,
   "metadata": {},
   "outputs": [],
   "source": [
    "ROOT.gSystem.Load(\"../HHKinFit2/libHHKinFit2.so\")\n",
    "ROOT.gInterpreter.Declare('#include \"/afs/cern.ch/work/j/jleonhol/private/cms_phys_ciemat/analysis_tools/HHKinFit2/interface/HHKinFitMasterHeavyHiggs.h\"')\n"
   ]
  },
  {
   "cell_type": "code",
   "execution_count": null,
   "metadata": {},
   "outputs": [],
   "source": [
    "c = ROOT.TCanvas(\"\", \"\", 800, 800)\n",
    "\n",
    "f = Feature(\"nfatjet\", \"nFatJet\")\n",
    "hist = df.Histo1D(f.expression)\n",
    "# hist.Draw()\n",
    "\n",
    "f2 = Feature(\"Muon_pt\", \"Muon_pt\")\n",
    "hist2 = df.Histo1D(f2.expression)\n",
    "\n",
    "ROOT.gInterpreter.Declare(\"\"\"\n",
    "    using Vfloat = const ROOT::RVec<float>&;      \n",
    "    float pt_0(Vfloat pt, int n){\n",
    "        if (n == 0) return -1.;\n",
    "        else return pt[0];\n",
    "    }\n",
    "\"\"\")\n",
    "hmodel = (\"hpt\",\"Muon p_{T}[GeV]\",50,0., 200.)\n",
    "muon_pt_0 = df.Define(\"Muon_pt_0\", \"pt_0(Muon_pt, nMuon)\").Histo1D(hmodel,\"Muon_pt_0\")\n",
    "\n",
    "hist2.Draw(\"same\")\n",
    "muon_pt_0.SetLineColor(ROOT.kRed)\n",
    "muon_pt_0.Draw(\"same\")\n",
    "\n",
    "\n",
    "# # new_df = df.Filter(\"nMuon >= 1\")\n",
    "# # muon_charge_0 = new_df.Define(\"muon_charge_0\", \"Muon_charge[0]\")\n",
    "# # #f3 = Feature(\"Muon_charge\", \"Muon_charge[0]\")\n",
    "# hist3 = new_df.Histo1D(f3.expression)\n",
    "# # hist3 = new_df.Histo1D(\"muon_charge_0\")\n",
    "\n",
    "# # hist2.Draw()\n",
    "# hist3.SetLineColor(ROOT.kRed)\n",
    "# hist3.Draw(\"same\")\n",
    "c.Draw()"
   ]
  },
  {
   "cell_type": "code",
   "execution_count": null,
   "metadata": {},
   "outputs": [],
   "source": []
  },
  {
   "cell_type": "code",
   "execution_count": null,
   "metadata": {},
   "outputs": [],
   "source": []
  }
 ],
 "metadata": {
  "kernelspec": {
   "display_name": "Python 2",
   "language": "python",
   "name": "python2"
  },
  "language_info": {
   "codemirror_mode": {
    "name": "ipython",
    "version": 2
   },
   "file_extension": ".py",
   "mimetype": "text/x-python",
   "name": "python",
   "nbconvert_exporter": "python",
   "pygments_lexer": "ipython2",
   "version": "2.7.15+"
  }
 },
 "nbformat": 4,
 "nbformat_minor": 2
}
