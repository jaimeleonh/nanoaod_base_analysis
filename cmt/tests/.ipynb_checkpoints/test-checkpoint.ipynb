{
 "cells": [
  {
   "cell_type": "code",
   "execution_count": 1,
   "metadata": {},
   "outputs": [],
   "source": [
    "from analysis_tools import Dataset, Process, Feature\n",
    "from pprint import pprint"
   ]
  },
  {
   "cell_type": "code",
   "execution_count": 3,
   "metadata": {},
   "outputs": [
    {
     "name": "stdout",
     "output_type": "stream",
     "text": [
      "['/store/mc/RunIIAutumn18NanoAODv6/VBFHHTo2B2Tau_CV_1_C2V_1_C3_1_TuneCP5_PSWeights_13TeV-madgraph-pythia8/NANOAODSIM/Nano25Oct2019_102X_upgrade2018_realistic_v20-v1/250000/564A5914-8521-E742-A11C-08FB3BDAC22D.root']\n"
     ]
    }
   ],
   "source": [
    "vbf_sm_process = Process(\"vbf_sm\", \"VBFSM\", color=(255, 255, 0))\n",
    "vbf = Dataset(\"vbf_sm\",\n",
    "             \"/store/mc/RunIIAutumn18NanoAODv7/VBFHHTo2B2Tau_CV_1_C2V_1_C3_1_TuneCP5_PSWeights_13TeV-madgraph-pythia8/NANOAODSIM/Nano02Apr2020_102X_upgrade2018_realistic_v21-v1/100000/\",\n",
    "             vbf_sm_process,\n",
    "             prefix=\"ingrid-se06.cism.ucl.ac.be:1094/\")\n",
    "pprint(vbf.get_files()[0:2])"
   ]
  },
  {
   "cell_type": "code",
   "execution_count": 2,
   "metadata": {},
   "outputs": [
    {
     "name": "stdout",
     "output_type": "stream",
     "text": [
      "['/store/mc/RunIISummer16NanoAODv7/DYJetsToLL_M-50_TuneCUETP8M1_13TeV-madgraphMLM-pythia8/NANOAODSIM/PUMoriond17_Nano02Apr2020_102X_mcRun2_asymptotic_v8_ext2-v1/110000/0510AD3C-A266-9544-B816-CACA36F1916F.root',\n",
      " '/store/mc/RunIISummer16NanoAODv7/DYJetsToLL_M-50_TuneCUETP8M1_13TeV-madgraphMLM-pythia8/NANOAODSIM/PUMoriond17_Nano02Apr2020_102X_mcRun2_asymptotic_v8_ext2-v1/110000/142892DA-7F19-B743-A6BF-94DC12A7D0A1.root']\n"
     ]
    }
   ],
   "source": [
    "# Create dy process and dataset (whose files are in desy, so we must use xrootd)\n",
    "dy_process = Process(\"dy\", \"DY\", color=(255, 0, 0))\n",
    "d = Dataset(\"dy_low\", \n",
    "            \"/store/mc/RunIISummer16NanoAODv7/DYJetsToLL_M-50_TuneCUETP8M1_13TeV-madgraphMLM-pythia8/NANOAODSIM/PUMoriond17_Nano02Apr2020_102X_mcRun2_asymptotic_v8_ext2-v1/110000/\",\n",
    "            dy_process,\n",
    "            prefix=\"dcache-cms-xrootd.desy.de:1094/\"\n",
    "           )\n",
    "# let's see which files we are considering\n",
    "# don't forget to voms-proxy before!\n",
    "pprint(d.get_files()[0:2])"
   ]
  },
  {
   "cell_type": "code",
   "execution_count": null,
   "metadata": {},
   "outputs": [],
   "source": [
    "# lets plot stuff using ROOT RDataFrame\n",
    "import ROOT\n",
    "if vbf.prefix:\n",
    "    files = [(\"root://\" + vbf.prefix + f) for f in vbf.get_files()[0:1]]\n",
    "else:\n",
    "    files = vbf.get_files()\n",
    "print files\n",
    "dataframe_files = ROOT.vector(str)()\n",
    "for f in files:\n",
    "    dataframe_files.push_back(f)\n",
    "df = ROOT.RDataFrame(\"Events\", dataframe_files)"
   ]
  },
  {
   "cell_type": "code",
   "execution_count": null,
   "metadata": {},
   "outputs": [],
   "source": [
    "f = Feature(\"met_pt\", \"MET_pt\")\n",
    "hist = df.Histo1D(f.expression)\n",
    "hist.SetLineColor(ROOT.TColor.GetColor(*d.process.color))\n",
    "c = ROOT.TCanvas(\"\", \"\", 800, 800)\n",
    "hist.Draw()\n",
    "c.Draw()"
   ]
  },
  {
   "cell_type": "code",
   "execution_count": null,
   "metadata": {},
   "outputs": [],
   "source": [
    "f = Feature(\"met_pt\", \"MET_pt\")\n",
    "new_df = df.Filter(\"MET_pt > 90\")\n",
    "hist = new_df.Histo1D(f.expression)\n",
    "hist.SetLineColor(ROOT.TColor.GetColor(*d.process.color))\n",
    "c = ROOT.TCanvas(\"\", \"\", 800, 800)\n",
    "hist.Draw()\n",
    "# c.Draw()\n",
    "# new_df.Snapshot(\"Events\", \"skim.root\")"
   ]
  },
  {
   "cell_type": "code",
   "execution_count": null,
   "metadata": {},
   "outputs": [],
   "source": [
    "ROOT.gSystem.Load(\"../HHKinFit2/libHHKinFit2.so\")\n",
    "ROOT.gInterpreter.Declare('#include \"/afs/cern.ch/work/j/jleonhol/private/cms_phys_ciemat/analysis_tools/HHKinFit2/interface/HHKinFitMasterHeavyHiggs.h\"')\n"
   ]
  },
  {
   "cell_type": "code",
   "execution_count": null,
   "metadata": {},
   "outputs": [],
   "source": [
    "c = ROOT.TCanvas(\"\", \"\", 800, 800)\n",
    "\n",
    "f = Feature(\"nfatjet\", \"nFatJet\")\n",
    "hist = df.Histo1D(f.expression)\n",
    "# hist.Draw()\n",
    "\n",
    "f2 = Feature(\"Muon_pt\", \"Muon_pt\")\n",
    "hist2 = df.Histo1D(f2.expression)\n",
    "\n",
    "ROOT.gInterpreter.Declare(\"\"\"\n",
    "    using Vfloat = const ROOT::RVec<float>&;      \n",
    "    float pt_0(Vfloat pt, int n){\n",
    "        if (n == 0) return -1.;\n",
    "        else return pt[0];\n",
    "    }\n",
    "\"\"\")\n",
    "hmodel = (\"hpt\",\"Muon p_{T}[GeV]\",50,0., 200.)\n",
    "muon_pt_0 = df.Define(\"Muon_pt_0\", \"pt_0(Muon_pt, nMuon)\").Histo1D(hmodel,\"Muon_pt_0\")\n",
    "\n",
    "hist2.Draw(\"same\")\n",
    "muon_pt_0.SetLineColor(ROOT.kRed)\n",
    "muon_pt_0.Draw(\"same\")\n",
    "\n",
    "\n",
    "# # new_df = df.Filter(\"nMuon >= 1\")\n",
    "# # muon_charge_0 = new_df.Define(\"muon_charge_0\", \"Muon_charge[0]\")\n",
    "# # #f3 = Feature(\"Muon_charge\", \"Muon_charge[0]\")\n",
    "# hist3 = new_df.Histo1D(f3.expression)\n",
    "# # hist3 = new_df.Histo1D(\"muon_charge_0\")\n",
    "\n",
    "# # hist2.Draw()\n",
    "# hist3.SetLineColor(ROOT.kRed)\n",
    "# hist3.Draw(\"same\")\n",
    "c.Draw()"
   ]
  },
  {
   "cell_type": "code",
   "execution_count": null,
   "metadata": {},
   "outputs": [],
   "source": []
  },
  {
   "cell_type": "code",
   "execution_count": null,
   "metadata": {},
   "outputs": [],
   "source": []
  }
 ],
 "metadata": {
  "kernelspec": {
   "display_name": "Python 2",
   "language": "python",
   "name": "python2"
  },
  "language_info": {
   "codemirror_mode": {
    "name": "ipython",
    "version": 2
   },
   "file_extension": ".py",
   "mimetype": "text/x-python",
   "name": "python",
   "nbconvert_exporter": "python",
   "pygments_lexer": "ipython2",
   "version": "2.7.15+"
  }
 },
 "nbformat": 4,
 "nbformat_minor": 2
}
